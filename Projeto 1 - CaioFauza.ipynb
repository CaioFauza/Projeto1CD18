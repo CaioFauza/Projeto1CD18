{
 "cells": [
  {
   "cell_type": "markdown",
   "metadata": {},
   "source": [
    "# Projeto 1 - Análise exploratória de dados\n",
    "                                                    Caio Horschutz Fauza\n",
    "                                                    2° C - Engenharia \n"
   ]
  },
  {
   "cell_type": "markdown",
   "metadata": {},
   "source": [
    "# Informações sobre o projeto:\n",
    "Indíces escolhidos: IDH, inflação (anual %) e suprimento de comida (kgcal/pessoa & dia)\n",
    "    \n",
    "    \n",
    "Pergunta: Qual a relação da taxa anual de inflação na alimentação diária da população, refletindo consequentemente, no IDH? \n",
    "\n",
    "Objetivos secundários: \n",
    "* Análise de possível eficiência de políticas públicas voltadas ao aumento do IDH de acordo com análise exploratória de dados\n",
    "* Verificação de correlação dos dados\n",
    " \n",
    "Ano escolhido inicialmente para análise: 2007\n",
    "\n",
    "Banco de dados: https://www.gapminder.org/data/"
   ]
  },
  {
   "cell_type": "markdown",
   "metadata": {},
   "source": [
    "# Introdução\n",
    "O Índice de desenvolvimento humano é uma ferramenta muito utilizada em pesquisas e análises da sociedade em escala global. Uma série de fatores podem afetar positivamente ou negativamente o IDH de um país. Este projeto visa analisar a relação de 2 índices independentes com o IDH, cumprindo os objetivos declarados nas informações fornecidas previamente."
   ]
  },
  {
   "cell_type": "markdown",
   "metadata": {},
   "source": [
    "# Coleta e desenvolvimento dos dados\n",
    "* Limpeza da base para melhor análise\n",
    "* Separação e disposição dos dados de maneira organizada"
   ]
  },
  {
   "cell_type": "code",
   "execution_count": 2,
   "metadata": {},
   "outputs": [
    {
     "data": {
      "text/html": [
       "<div>\n",
       "<style scoped>\n",
       "    .dataframe tbody tr th:only-of-type {\n",
       "        vertical-align: middle;\n",
       "    }\n",
       "\n",
       "    .dataframe tbody tr th {\n",
       "        vertical-align: top;\n",
       "    }\n",
       "\n",
       "    .dataframe thead th {\n",
       "        text-align: right;\n",
       "    }\n",
       "</style>\n",
       "<table border=\"1\" class=\"dataframe\">\n",
       "  <thead>\n",
       "    <tr style=\"text-align: right;\">\n",
       "      <th></th>\n",
       "      <th>2007_IDH</th>\n",
       "      <th>2007_Inflação</th>\n",
       "      <th>2007_Comida</th>\n",
       "    </tr>\n",
       "  </thead>\n",
       "  <tbody>\n",
       "    <tr>\n",
       "      <th>Abkhazia</th>\n",
       "      <td>NaN</td>\n",
       "      <td>NaN</td>\n",
       "      <td>NaN</td>\n",
       "    </tr>\n",
       "    <tr>\n",
       "      <th>Afghanistan</th>\n",
       "      <td>0.363</td>\n",
       "      <td>13.208274</td>\n",
       "      <td>NaN</td>\n",
       "    </tr>\n",
       "    <tr>\n",
       "      <th>Akrotiri and Dhekelia</th>\n",
       "      <td>NaN</td>\n",
       "      <td>NaN</td>\n",
       "      <td>NaN</td>\n",
       "    </tr>\n",
       "    <tr>\n",
       "      <th>Albania</th>\n",
       "      <td>0.729</td>\n",
       "      <td>2.024081</td>\n",
       "      <td>2879.57</td>\n",
       "    </tr>\n",
       "    <tr>\n",
       "      <th>Algeria</th>\n",
       "      <td>0.680</td>\n",
       "      <td>7.331055</td>\n",
       "      <td>3153.38</td>\n",
       "    </tr>\n",
       "    <tr>\n",
       "      <th>American Samoa</th>\n",
       "      <td>NaN</td>\n",
       "      <td>NaN</td>\n",
       "      <td>NaN</td>\n",
       "    </tr>\n",
       "    <tr>\n",
       "      <th>Andorra</th>\n",
       "      <td>NaN</td>\n",
       "      <td>3.870000</td>\n",
       "      <td>NaN</td>\n",
       "    </tr>\n",
       "    <tr>\n",
       "      <th>Angola</th>\n",
       "      <td>0.471</td>\n",
       "      <td>12.616432</td>\n",
       "      <td>1973.29</td>\n",
       "    </tr>\n",
       "    <tr>\n",
       "      <th>Anguilla</th>\n",
       "      <td>NaN</td>\n",
       "      <td>NaN</td>\n",
       "      <td>NaN</td>\n",
       "    </tr>\n",
       "    <tr>\n",
       "      <th>Antigua and Barbuda</th>\n",
       "      <td>NaN</td>\n",
       "      <td>23.258314</td>\n",
       "      <td>2368.50</td>\n",
       "    </tr>\n",
       "    <tr>\n",
       "      <th>Argentina</th>\n",
       "      <td>0.780</td>\n",
       "      <td>14.258239</td>\n",
       "      <td>2940.98</td>\n",
       "    </tr>\n",
       "    <tr>\n",
       "      <th>Armenia</th>\n",
       "      <td>0.715</td>\n",
       "      <td>4.232770</td>\n",
       "      <td>2279.87</td>\n",
       "    </tr>\n",
       "    <tr>\n",
       "      <th>Aruba</th>\n",
       "      <td>NaN</td>\n",
       "      <td>NaN</td>\n",
       "      <td>NaN</td>\n",
       "    </tr>\n",
       "    <tr>\n",
       "      <th>Australia</th>\n",
       "      <td>0.922</td>\n",
       "      <td>5.254860</td>\n",
       "      <td>3227.05</td>\n",
       "    </tr>\n",
       "    <tr>\n",
       "      <th>Austria</th>\n",
       "      <td>0.870</td>\n",
       "      <td>2.004815</td>\n",
       "      <td>3818.80</td>\n",
       "    </tr>\n",
       "    <tr>\n",
       "      <th>Azerbaijan</th>\n",
       "      <td>NaN</td>\n",
       "      <td>20.981710</td>\n",
       "      <td>2961.19</td>\n",
       "    </tr>\n",
       "    <tr>\n",
       "      <th>Bahamas</th>\n",
       "      <td>0.770</td>\n",
       "      <td>2.947526</td>\n",
       "      <td>2712.50</td>\n",
       "    </tr>\n",
       "    <tr>\n",
       "      <th>Bahrain</th>\n",
       "      <td>0.804</td>\n",
       "      <td>7.544007</td>\n",
       "      <td>NaN</td>\n",
       "    </tr>\n",
       "    <tr>\n",
       "      <th>Bangladesh</th>\n",
       "      <td>0.478</td>\n",
       "      <td>6.786450</td>\n",
       "      <td>2281.18</td>\n",
       "    </tr>\n",
       "    <tr>\n",
       "      <th>Barbados</th>\n",
       "      <td>0.791</td>\n",
       "      <td>6.333394</td>\n",
       "      <td>3055.81</td>\n",
       "    </tr>\n",
       "    <tr>\n",
       "      <th>Belarus</th>\n",
       "      <td>0.738</td>\n",
       "      <td>12.823553</td>\n",
       "      <td>3145.64</td>\n",
       "    </tr>\n",
       "    <tr>\n",
       "      <th>Belgium</th>\n",
       "      <td>0.880</td>\n",
       "      <td>2.339240</td>\n",
       "      <td>3693.57</td>\n",
       "    </tr>\n",
       "    <tr>\n",
       "      <th>Belize</th>\n",
       "      <td>0.692</td>\n",
       "      <td>3.854612</td>\n",
       "      <td>2717.57</td>\n",
       "    </tr>\n",
       "    <tr>\n",
       "      <th>Benin</th>\n",
       "      <td>0.414</td>\n",
       "      <td>2.641756</td>\n",
       "      <td>2532.92</td>\n",
       "    </tr>\n",
       "    <tr>\n",
       "      <th>Bermuda</th>\n",
       "      <td>NaN</td>\n",
       "      <td>5.779270</td>\n",
       "      <td>2597.99</td>\n",
       "    </tr>\n",
       "  </tbody>\n",
       "</table>\n",
       "</div>"
      ],
      "text/plain": [
       "                       2007_IDH  2007_Inflação  2007_Comida\n",
       "Abkhazia                    NaN            NaN          NaN\n",
       "Afghanistan               0.363      13.208274          NaN\n",
       "Akrotiri and Dhekelia       NaN            NaN          NaN\n",
       "Albania                   0.729       2.024081      2879.57\n",
       "Algeria                   0.680       7.331055      3153.38\n",
       "American Samoa              NaN            NaN          NaN\n",
       "Andorra                     NaN       3.870000          NaN\n",
       "Angola                    0.471      12.616432      1973.29\n",
       "Anguilla                    NaN            NaN          NaN\n",
       "Antigua and Barbuda         NaN      23.258314      2368.50\n",
       "Argentina                 0.780      14.258239      2940.98\n",
       "Armenia                   0.715       4.232770      2279.87\n",
       "Aruba                       NaN            NaN          NaN\n",
       "Australia                 0.922       5.254860      3227.05\n",
       "Austria                   0.870       2.004815      3818.80\n",
       "Azerbaijan                  NaN      20.981710      2961.19\n",
       "Bahamas                   0.770       2.947526      2712.50\n",
       "Bahrain                   0.804       7.544007          NaN\n",
       "Bangladesh                0.478       6.786450      2281.18\n",
       "Barbados                  0.791       6.333394      3055.81\n",
       "Belarus                   0.738      12.823553      3145.64\n",
       "Belgium                   0.880       2.339240      3693.57\n",
       "Belize                    0.692       3.854612      2717.57\n",
       "Benin                     0.414       2.641756      2532.92\n",
       "Bermuda                     NaN       5.779270      2597.99"
      ]
     },
     "execution_count": 2,
     "metadata": {},
     "output_type": "execute_result"
    }
   ],
   "source": [
    "import warnings\n",
    "warnings.simplefilter(action='ignore', category=FutureWarning)\n",
    "\n",
    "\n",
    "import pandas as pd\n",
    "import matplotlib.pyplot as plt\n",
    "import seaborn as sns\n",
    "\n",
    "\n",
    "idh = pd.read_excel(\"Indicator_HDI.xlsx\")\n",
    "food = pd.read_excel(\"indicator food_consumption.xlsx\")\n",
    "inf = pd.read_excel(\"Inflation.xlsx\")\n",
    "\n",
    "\n",
    "idh2007 = idh.loc[:, [\"HDI\", 2007]]\n",
    "food2007 = food.loc[:,[\"Food\", 2007]]\n",
    "inf2007 = inf.loc[:, [\"Inflation, GDP deflator (annual %)\", 2007]]\n",
    "\n",
    "\n",
    "idh_i = idh2007.set_index(\"HDI\")\n",
    "food_i = food2007.set_index(\"Food\")\n",
    "inf_i = inf2007.set_index(\"Inflation, GDP deflator (annual %)\")\n",
    "\n",
    "joined = idh_i.join(inf_i, how=\"inner\", lsuffix=\"_IDH\", rsuffix=\"_Inflação\")\n",
    "dados = joined.join(food_i, how =\"inner\")\n",
    "\n",
    "dados.rename(columns={2007 : \"2007_Comida\"}, inplace = True)\n",
    "dados.head(25)\n",
    "\n"
   ]
  },
  {
   "cell_type": "markdown",
   "metadata": {},
   "source": [
    "Após o procedimento acima, foram analisados os índices separadamente para melhor visualização dos dados."
   ]
  },
  {
   "cell_type": "code",
   "execution_count": 3,
   "metadata": {},
   "outputs": [
    {
     "data": {
      "text/plain": [
       "<matplotlib.axes._subplots.AxesSubplot at 0x22b9414cda0>"
      ]
     },
     "execution_count": 3,
     "metadata": {},
     "output_type": "execute_result"
    },
    {
     "data": {
      "image/png": "[encoded data removed]",
      "text/plain": [
       "<matplotlib.figure.Figure at 0x22b9414c6d8>"
      ]
     },
     "metadata": {},
     "output_type": "display_data"
    }
   ],
   "source": [
    "dados[\"2007_IDH\"].plot.hist(title = \"Histograma IDH (2007, países do mundo)\")\n"
   ]
  },
  {
   "cell_type": "markdown",
   "metadata": {},
   "source": [
    "O histograma acima (IDH - 2007) apresenta assimetria e os índices de maiores frequências se localizam entre 0.7 e 0.8."
   ]
  },
  {
   "cell_type": "code",
   "execution_count": 4,
   "metadata": {},
   "outputs": [
    {
     "data": {
      "text/plain": [
       "<matplotlib.axes._subplots.AxesSubplot at 0x22b977fa320>"
      ]
     },
     "execution_count": 4,
     "metadata": {},
     "output_type": "execute_result"
    },
    {
     "data": {
      "image/png": "[encoded data removed]",
      "text/plain": [
       "<matplotlib.figure.Figure at 0x22b977f1048>"
      ]
     },
     "metadata": {},
     "output_type": "display_data"
    }
   ],
   "source": [
    "dados[\"2007_Inflação\"].plot.hist(title=\"Histograma Taxa anual de inflação (países do mundo)\")"
   ]
  },
  {
   "cell_type": "markdown",
   "metadata": {},
   "source": [
    "O histograma acima (Inflação - 2007) apresenta assimetria e os índices de maiores frequências se localizam entre 0 e 7 aproximadamente."
   ]
  },
  {
   "cell_type": "code",
   "execution_count": 5,
   "metadata": {},
   "outputs": [
    {
     "data": {
      "text/plain": [
       "<matplotlib.axes._subplots.AxesSubplot at 0x22b97ca1588>"
      ]
     },
     "execution_count": 5,
     "metadata": {},
     "output_type": "execute_result"
    },
    {
     "data": {
      "image/png": "[encoded data removed]",
      "text/plain": [
       "<matplotlib.figure.Figure at 0x22b97c435f8>"
      ]
     },
     "metadata": {},
     "output_type": "display_data"
    }
   ],
   "source": [
    "dados[\"2007_Comida\"].plot.hist(title = \"Histograma Kcal consumidas por dia/pessoa (países do mundo)\")"
   ]
  },
  {
   "cell_type": "markdown",
   "metadata": {},
   "source": [
    "O histograma acima apresenta pouca simetria e os índices de maiores frequências se localizam no intervalo de 2300 e 3100 aproximadamente."
   ]
  },
  {
   "cell_type": "markdown",
   "metadata": {},
   "source": [
    "O próximo passo realizado foi:\n",
    "\n",
    "* Criação de função para linha de tendência e para os gráficos de dispersão \n",
    "* Plotagem de gráficos de dispersão entre os dados separados no dataframe\n",
    "* Execução de tabela de correlação entre os dados"
   ]
  },
  {
   "cell_type": "code",
   "execution_count": 6,
   "metadata": {},
   "outputs": [
    {
     "data": {
      "image/png": "[encoded data removed]",
      "text/plain": [
       "<matplotlib.figure.Figure at 0x22b9786d240>"
      ]
     },
     "metadata": {},
     "output_type": "display_data"
    },
    {
     "data": {
      "image/png": "[encoded data removed]",
      "text/plain": [
       "<matplotlib.figure.Figure at 0x22b9786d1d0>"
      ]
     },
     "metadata": {},
     "output_type": "display_data"
    },
    {
     "data": {
      "image/png": "[encoded data removed]",
      "text/plain": [
       "<matplotlib.figure.Figure at 0x22b97c18470>"
      ]
     },
     "metadata": {},
     "output_type": "display_data"
    },
    {
     "data": {
      "text/html": [
       "<div>\n",
       "<style scoped>\n",
       "    .dataframe tbody tr th:only-of-type {\n",
       "        vertical-align: middle;\n",
       "    }\n",
       "\n",
       "    .dataframe tbody tr th {\n",
       "        vertical-align: top;\n",
       "    }\n",
       "\n",
       "    .dataframe thead th {\n",
       "        text-align: right;\n",
       "    }\n",
       "</style>\n",
       "<table border=\"1\" class=\"dataframe\">\n",
       "  <thead>\n",
       "    <tr style=\"text-align: right;\">\n",
       "      <th></th>\n",
       "      <th>2007_IDH</th>\n",
       "      <th>2007_Inflação</th>\n",
       "      <th>2007_Comida</th>\n",
       "    </tr>\n",
       "  </thead>\n",
       "  <tbody>\n",
       "    <tr>\n",
       "      <th>2007_IDH</th>\n",
       "      <td>1.000000</td>\n",
       "      <td>-0.214771</td>\n",
       "      <td>0.803180</td>\n",
       "    </tr>\n",
       "    <tr>\n",
       "      <th>2007_Inflação</th>\n",
       "      <td>-0.214771</td>\n",
       "      <td>1.000000</td>\n",
       "      <td>-0.230099</td>\n",
       "    </tr>\n",
       "    <tr>\n",
       "      <th>2007_Comida</th>\n",
       "      <td>0.803180</td>\n",
       "      <td>-0.230099</td>\n",
       "      <td>1.000000</td>\n",
       "    </tr>\n",
       "  </tbody>\n",
       "</table>\n",
       "</div>"
      ],
      "text/plain": [
       "               2007_IDH  2007_Inflação  2007_Comida\n",
       "2007_IDH       1.000000      -0.214771     0.803180\n",
       "2007_Inflação -0.214771       1.000000    -0.230099\n",
       "2007_Comida    0.803180      -0.230099     1.000000"
      ]
     },
     "execution_count": 6,
     "metadata": {},
     "output_type": "execute_result"
    }
   ],
   "source": [
    "def reta(x, y, titulox, tituloy):\n",
    "    a = y.cov(x)/x.var()\n",
    "    b = y.mean() - a*x.mean()    \n",
    "    plt.scatter(x, y, c= \"red\", alpha=0.8)\n",
    "    plt.plot((x.min(), x.max()), (a*x.min()+b, a*x.max()+b), color='blue')\n",
    "    plt.xlabel(titulox)\n",
    "    plt.ylabel(tituloy)\n",
    "    plt.tight_layout()\n",
    "    plt.show()\n",
    "    \n",
    "\n",
    "reta(dados[\"2007_Inflação\"], dados[\"2007_IDH\"], \"Inflação\", \"IDH\")\n",
    "reta(dados[\"2007_Comida\"], dados[\"2007_IDH\"], \"Kcal/dia\", \"IDH\")\n",
    "reta(dados[\"2007_Inflação\"], dados[\"2007_Comida\"], \"Inflação\", \"Kcal/dia\")\n",
    "dados.corr()"
   ]
  },
  {
   "cell_type": "markdown",
   "metadata": {},
   "source": [
    "# Conclusão Primária"
   ]
  },
  {
   "cell_type": "markdown",
   "metadata": {},
   "source": [
    "Após serem relacionados os 3 índices (IDH, Inflação e Kcal/pessoa/dia) as seguintes conclusões para o ano de 2007 foram obtidas:\n",
    "* IDH e inflação não possuem correlação relevante (0.2)\n",
    "* IDH e quantidade média de Kcal ingeridas diariamente pela população possuem alta correlação (0.80)\n",
    "\n",
    "Tais afirmações podem ser observadas no gráfico e na tabela de correlação abaixo:"
   ]
  },
  {
   "cell_type": "code",
   "execution_count": 7,
   "metadata": {},
   "outputs": [
    {
     "data": {
      "image/png": "[encoded data removed]",
      "text/plain": [
       "<matplotlib.figure.Figure at 0x22b97c64518>"
      ]
     },
     "metadata": {},
     "output_type": "display_data"
    },
    {
     "data": {
      "text/html": [
       "<div>\n",
       "<style scoped>\n",
       "    .dataframe tbody tr th:only-of-type {\n",
       "        vertical-align: middle;\n",
       "    }\n",
       "\n",
       "    .dataframe tbody tr th {\n",
       "        vertical-align: top;\n",
       "    }\n",
       "\n",
       "    .dataframe thead th {\n",
       "        text-align: right;\n",
       "    }\n",
       "</style>\n",
       "<table border=\"1\" class=\"dataframe\">\n",
       "  <thead>\n",
       "    <tr style=\"text-align: right;\">\n",
       "      <th></th>\n",
       "      <th>2007_IDH</th>\n",
       "      <th>2007_Inflação</th>\n",
       "      <th>2007_Comida</th>\n",
       "    </tr>\n",
       "  </thead>\n",
       "  <tbody>\n",
       "    <tr>\n",
       "      <th>2007_IDH</th>\n",
       "      <td>1.000000</td>\n",
       "      <td>-0.214771</td>\n",
       "      <td>0.803180</td>\n",
       "    </tr>\n",
       "    <tr>\n",
       "      <th>2007_Inflação</th>\n",
       "      <td>-0.214771</td>\n",
       "      <td>1.000000</td>\n",
       "      <td>-0.230099</td>\n",
       "    </tr>\n",
       "    <tr>\n",
       "      <th>2007_Comida</th>\n",
       "      <td>0.803180</td>\n",
       "      <td>-0.230099</td>\n",
       "      <td>1.000000</td>\n",
       "    </tr>\n",
       "  </tbody>\n",
       "</table>\n",
       "</div>"
      ],
      "text/plain": [
       "               2007_IDH  2007_Inflação  2007_Comida\n",
       "2007_IDH       1.000000      -0.214771     0.803180\n",
       "2007_Inflação -0.214771       1.000000    -0.230099\n",
       "2007_Comida    0.803180      -0.230099     1.000000"
      ]
     },
     "execution_count": 7,
     "metadata": {},
     "output_type": "execute_result"
    }
   ],
   "source": [
    "reta(dados[\"2007_Comida\"], dados[\"2007_IDH\"], \"Kcal/dia\", \"IDH\")\n",
    "dados.corr()"
   ]
  },
  {
   "cell_type": "markdown",
   "metadata": {},
   "source": [
    "Tais informações permitem nos dizer que, de acordo com os dados, investir os recursos do governo no combate a inflação pode não influenciar no Índice de Desenvolvimento Humano. Políticas públicas voltadas a melhoria na alimentação e suprimento de energia alimentar diária necessária (em conjunto com outros fatores, como por exemplo os reflexos do índice na saúde) podem ser mais efetivas na elevação do IDH.\n",
    "\n",
    "Ao se relacionar quantidade média de ingestão de Kcal por dia pela população e inflação, o índice de correlação foi de 0.23, o que não nos permite relacionar as duas informações e avaliar os impactos de uma sobre a outra de maneira clara, ou seja, a inflação não está relacionada com a ingestão diária de Kcal e consequemente com o IDH (pergunta principal do projeto de análise), porém, a ingestão de Kcal está relacionada ao IDH (países com IDH alto possuem maior média de Kcal diárias)\n",
    "\n"
   ]
  },
  {
   "cell_type": "markdown",
   "metadata": {},
   "source": [
    "# Ampliação de análise\n",
    "\n",
    "Para apresentar uma conclusão mais clara e temporal, realizou-se a ampliação do dataframe nos índices IDH e Kcal por dia/pessoa para conter também os anos 2005, 2006 e 2000. Os dados de inflação para esses anos não foram explorados, devido a falta de evidências concretas de correlação com o IDH por meio da primeira análise."
   ]
  },
  {
   "cell_type": "code",
   "execution_count": 8,
   "metadata": {},
   "outputs": [
    {
     "data": {
      "text/html": [
       "<div>\n",
       "<style scoped>\n",
       "    .dataframe tbody tr th:only-of-type {\n",
       "        vertical-align: middle;\n",
       "    }\n",
       "\n",
       "    .dataframe tbody tr th {\n",
       "        vertical-align: top;\n",
       "    }\n",
       "\n",
       "    .dataframe thead th {\n",
       "        text-align: right;\n",
       "    }\n",
       "</style>\n",
       "<table border=\"1\" class=\"dataframe\">\n",
       "  <thead>\n",
       "    <tr style=\"text-align: right;\">\n",
       "      <th></th>\n",
       "      <th>2007_IDH</th>\n",
       "      <th>2006_IDH</th>\n",
       "      <th>2005_IDH</th>\n",
       "      <th>2000_IDH</th>\n",
       "      <th>2007_Kcal</th>\n",
       "      <th>2006_Kcal</th>\n",
       "      <th>2005_Kcal</th>\n",
       "      <th>2000_Kcal</th>\n",
       "    </tr>\n",
       "  </thead>\n",
       "  <tbody>\n",
       "    <tr>\n",
       "      <th>Abkhazia</th>\n",
       "      <td>NaN</td>\n",
       "      <td>NaN</td>\n",
       "      <td>NaN</td>\n",
       "      <td>NaN</td>\n",
       "      <td>NaN</td>\n",
       "      <td>NaN</td>\n",
       "      <td>NaN</td>\n",
       "      <td>NaN</td>\n",
       "    </tr>\n",
       "    <tr>\n",
       "      <th>Afghanistan</th>\n",
       "      <td>0.363</td>\n",
       "      <td>0.354</td>\n",
       "      <td>0.340</td>\n",
       "      <td>0.230</td>\n",
       "      <td>NaN</td>\n",
       "      <td>NaN</td>\n",
       "      <td>NaN</td>\n",
       "      <td>NaN</td>\n",
       "    </tr>\n",
       "    <tr>\n",
       "      <th>Akrotiri and Dhekelia</th>\n",
       "      <td>NaN</td>\n",
       "      <td>NaN</td>\n",
       "      <td>NaN</td>\n",
       "      <td>NaN</td>\n",
       "      <td>NaN</td>\n",
       "      <td>NaN</td>\n",
       "      <td>NaN</td>\n",
       "      <td>NaN</td>\n",
       "    </tr>\n",
       "    <tr>\n",
       "      <th>Albania</th>\n",
       "      <td>0.729</td>\n",
       "      <td>0.724</td>\n",
       "      <td>0.721</td>\n",
       "      <td>0.691</td>\n",
       "      <td>2879.57</td>\n",
       "      <td>2914.95</td>\n",
       "      <td>2917.08</td>\n",
       "      <td>2832.07</td>\n",
       "    </tr>\n",
       "    <tr>\n",
       "      <th>Algeria</th>\n",
       "      <td>0.680</td>\n",
       "      <td>0.673</td>\n",
       "      <td>0.667</td>\n",
       "      <td>0.624</td>\n",
       "      <td>3153.38</td>\n",
       "      <td>3101.20</td>\n",
       "      <td>3059.24</td>\n",
       "      <td>2928.84</td>\n",
       "    </tr>\n",
       "  </tbody>\n",
       "</table>\n",
       "</div>"
      ],
      "text/plain": [
       "                       2007_IDH  2006_IDH  2005_IDH  2000_IDH  2007_Kcal  \\\n",
       "Abkhazia                    NaN       NaN       NaN       NaN        NaN   \n",
       "Afghanistan               0.363     0.354     0.340     0.230        NaN   \n",
       "Akrotiri and Dhekelia       NaN       NaN       NaN       NaN        NaN   \n",
       "Albania                   0.729     0.724     0.721     0.691    2879.57   \n",
       "Algeria                   0.680     0.673     0.667     0.624    3153.38   \n",
       "\n",
       "                       2006_Kcal  2005_Kcal  2000_Kcal  \n",
       "Abkhazia                     NaN        NaN        NaN  \n",
       "Afghanistan                  NaN        NaN        NaN  \n",
       "Akrotiri and Dhekelia        NaN        NaN        NaN  \n",
       "Albania                  2914.95    2917.08    2832.07  \n",
       "Algeria                  3101.20    3059.24    2928.84  "
      ]
     },
     "execution_count": 8,
     "metadata": {},
     "output_type": "execute_result"
    }
   ],
   "source": [
    "idh2006 = idh.loc[:, [\"HDI\", 2006]]\n",
    "idh2005 = idh.loc[:, [\"HDI\", 2005]]\n",
    "idh2000 = idh.loc[:, [\"HDI\", 2000]]\n",
    "\n",
    "food2006 = food.loc[:, [\"Food\", 2006]]\n",
    "food2005 = food.loc[:,[\"Food\", 2005]]\n",
    "food2000 = food.loc[:,[\"Food\", 2000]]\n",
    "\n",
    "idh_i6 = idh2006.set_index(\"HDI\")\n",
    "food_i6 = food2006.set_index(\"Food\")\n",
    "idh_i5 = idh2005.set_index(\"HDI\")\n",
    "food_i5 = food2005.set_index(\"Food\")\n",
    "idh_i0 = idh2000.set_index(\"HDI\")\n",
    "food_i0 = food2000.set_index(\"Food\")\n",
    "\n",
    "a1 = idh_i.join(idh_i6, how=\"inner\", lsuffix=\"_IDH\", rsuffix=\"_IDH\")\n",
    "b1 =a1.join(idh_i5, how =\"inner\")\n",
    "b2 = b1.join(idh_i0, how = \"inner\")\n",
    "b2.rename(columns={2007 : \"2007_IDH\", 2006 : \"2006_IDH\", 2005: \"2005_IDH\", 2000: \"2000_IDH\"}, inplace = True)\n",
    "b3 = b2.join(food_i, how = 'inner')\n",
    "b4 = b3.join(food_i6, how = \"inner\")\n",
    "b5 = b4.join(food_i5, how = \"inner\")\n",
    "dadosampliados = b5.join(food_i0, how = \"inner\")\n",
    "dadosampliados.rename(columns={2007 : \"2007_Kcal\", 2006: \"2006_Kcal\", 2005: \"2005_Kcal\", 2000: \"2000_Kcal\"}, inplace = True)\n",
    "dadosampliados.head()\n",
    "\n"
   ]
  },
  {
   "cell_type": "markdown",
   "metadata": {},
   "source": [
    "Com os dados organizados, realizou-se um boxplot com os múltiplos anos para os índices:\n"
   ]
  },
  {
   "cell_type": "code",
   "execution_count": 9,
   "metadata": {},
   "outputs": [
    {
     "data": {
      "text/plain": [
       "<matplotlib.axes._subplots.AxesSubplot at 0x22b9819ef28>"
      ]
     },
     "execution_count": 9,
     "metadata": {},
     "output_type": "execute_result"
    },
    {
     "data": {
      "image/png": "[encoded data removed]",
      "text/plain": [
       "<matplotlib.figure.Figure at 0x22b981993c8>"
      ]
     },
     "metadata": {},
     "output_type": "display_data"
    }
   ],
   "source": [
    "dadosampliados.loc[:,[\"2000_IDH\", \"2005_IDH\", \"2006_IDH\", \"2007_IDH\"]].boxplot()\n"
   ]
  },
  {
   "cell_type": "code",
   "execution_count": 10,
   "metadata": {},
   "outputs": [
    {
     "data": {
      "text/plain": [
       "<matplotlib.axes._subplots.AxesSubplot at 0x22b9824cfd0>"
      ]
     },
     "execution_count": 10,
     "metadata": {},
     "output_type": "execute_result"
    },
    {
     "data": {
      "image/png": "[encoded data removed]",
      "text/plain": [
       "<matplotlib.figure.Figure at 0x22b9822c240>"
      ]
     },
     "metadata": {},
     "output_type": "display_data"
    }
   ],
   "source": [
    "dadosampliados.loc[:,[\"2000_Kcal\", \"2005_Kcal\", \"2006_Kcal\", \"2007_Kcal\"]].boxplot()"
   ]
  },
  {
   "cell_type": "markdown",
   "metadata": {},
   "source": [
    "De acordo com os boxplots realizados, é possível notar que as mudanças nas medianas e nos interquartis não foram tão significativas com o passar dos anos."
   ]
  },
  {
   "cell_type": "markdown",
   "metadata": {},
   "source": [
    "Para visualizar ainda mais tal afirmação, graficos de dispersão foram realizados para todos os anos selecionados:"
   ]
  },
  {
   "cell_type": "code",
   "execution_count": 23,
   "metadata": {},
   "outputs": [
    {
     "data": {
      "image/png": "[encoded data removed]",
      "text/plain": [
       "<matplotlib.figure.Figure at 0x22b98119b00>"
      ]
     },
     "metadata": {},
     "output_type": "display_data"
    },
    {
     "data": {
      "image/png": "[encoded data removed]",
      "text/plain": [
       "<matplotlib.figure.Figure at 0x22b98119c50>"
      ]
     },
     "metadata": {},
     "output_type": "display_data"
    },
    {
     "data": {
      "image/png": "[encoded data removed]",
      "text/plain": [
       "<matplotlib.figure.Figure at 0x22b986bdf28>"
      ]
     },
     "metadata": {},
     "output_type": "display_data"
    },
    {
     "data": {
      "image/png": "[encoded data removed]",
      "text/plain": [
       "<matplotlib.figure.Figure at 0x22b9855f470>"
      ]
     },
     "metadata": {},
     "output_type": "display_data"
    }
   ],
   "source": [
    "listakcal = [\"2000_Kcal\", \"2005_Kcal\", \"2006_Kcal\", \"2007_Kcal\"]\n",
    "listaidh = [\"2000_IDH\", \"2005_IDH\", \"2006_IDH\", \"2007_IDH\"]\n",
    "plt.subplot(221)\n",
    "reta(dadosampliados[\"2000_Kcal\"], dadosampliados[\"2000_IDH\"], \"Kcal (2000)\", \"IDH (2000)\")\n",
    "plt.subplot(222)\n",
    "reta(dadosampliados[\"2005_Kcal\"], dadosampliados[\"2005_IDH\"], \"Kcal (2005)\", \"IDH (2005)\")\n",
    "plt.subplot(223)\n",
    "reta(dadosampliados[\"2006_Kcal\"], dadosampliados[\"2006_IDH\"], \"Kcal (2006)\", \"IDH (2006)\")\n",
    "plt.subplot(224)\n",
    "reta(dadosampliados[\"2007_Kcal\"], dadosampliados[\"2007_IDH\"], \"Kcal (2007)\", \"IDH (2007)\")    "
   ]
  },
  {
   "cell_type": "markdown",
   "metadata": {},
   "source": [
    "Para finalizar, os índices de correlação foram comparados:"
   ]
  },
  {
   "cell_type": "code",
   "execution_count": 24,
   "metadata": {},
   "outputs": [
    {
     "data": {
      "text/html": [
       "<div>\n",
       "<style scoped>\n",
       "    .dataframe tbody tr th:only-of-type {\n",
       "        vertical-align: middle;\n",
       "    }\n",
       "\n",
       "    .dataframe tbody tr th {\n",
       "        vertical-align: top;\n",
       "    }\n",
       "\n",
       "    .dataframe thead th {\n",
       "        text-align: right;\n",
       "    }\n",
       "</style>\n",
       "<table border=\"1\" class=\"dataframe\">\n",
       "  <thead>\n",
       "    <tr style=\"text-align: right;\">\n",
       "      <th></th>\n",
       "      <th>2000_Kcal</th>\n",
       "      <th>2000_IDH</th>\n",
       "    </tr>\n",
       "  </thead>\n",
       "  <tbody>\n",
       "    <tr>\n",
       "      <th>2000_Kcal</th>\n",
       "      <td>1.000000</td>\n",
       "      <td>0.838374</td>\n",
       "    </tr>\n",
       "    <tr>\n",
       "      <th>2000_IDH</th>\n",
       "      <td>0.838374</td>\n",
       "      <td>1.000000</td>\n",
       "    </tr>\n",
       "  </tbody>\n",
       "</table>\n",
       "</div>"
      ],
      "text/plain": [
       "           2000_Kcal  2000_IDH\n",
       "2000_Kcal   1.000000  0.838374\n",
       "2000_IDH    0.838374  1.000000"
      ]
     },
     "execution_count": 24,
     "metadata": {},
     "output_type": "execute_result"
    }
   ],
   "source": [
    "dadosampliados.loc[:,[\"2000_Kcal\", \"2000_IDH\"]].corr()"
   ]
  },
  {
   "cell_type": "code",
   "execution_count": 25,
   "metadata": {},
   "outputs": [
    {
     "data": {
      "text/html": [
       "<div>\n",
       "<style scoped>\n",
       "    .dataframe tbody tr th:only-of-type {\n",
       "        vertical-align: middle;\n",
       "    }\n",
       "\n",
       "    .dataframe tbody tr th {\n",
       "        vertical-align: top;\n",
       "    }\n",
       "\n",
       "    .dataframe thead th {\n",
       "        text-align: right;\n",
       "    }\n",
       "</style>\n",
       "<table border=\"1\" class=\"dataframe\">\n",
       "  <thead>\n",
       "    <tr style=\"text-align: right;\">\n",
       "      <th></th>\n",
       "      <th>2005_Kcal</th>\n",
       "      <th>2005_IDH</th>\n",
       "    </tr>\n",
       "  </thead>\n",
       "  <tbody>\n",
       "    <tr>\n",
       "      <th>2005_Kcal</th>\n",
       "      <td>1.000000</td>\n",
       "      <td>0.825026</td>\n",
       "    </tr>\n",
       "    <tr>\n",
       "      <th>2005_IDH</th>\n",
       "      <td>0.825026</td>\n",
       "      <td>1.000000</td>\n",
       "    </tr>\n",
       "  </tbody>\n",
       "</table>\n",
       "</div>"
      ],
      "text/plain": [
       "           2005_Kcal  2005_IDH\n",
       "2005_Kcal   1.000000  0.825026\n",
       "2005_IDH    0.825026  1.000000"
      ]
     },
     "execution_count": 25,
     "metadata": {},
     "output_type": "execute_result"
    }
   ],
   "source": [
    "dadosampliados.loc[:,[\"2005_Kcal\", \"2005_IDH\"]].corr()"
   ]
  },
  {
   "cell_type": "code",
   "execution_count": 26,
   "metadata": {},
   "outputs": [
    {
     "data": {
      "text/html": [
       "<div>\n",
       "<style scoped>\n",
       "    .dataframe tbody tr th:only-of-type {\n",
       "        vertical-align: middle;\n",
       "    }\n",
       "\n",
       "    .dataframe tbody tr th {\n",
       "        vertical-align: top;\n",
       "    }\n",
       "\n",
       "    .dataframe thead th {\n",
       "        text-align: right;\n",
       "    }\n",
       "</style>\n",
       "<table border=\"1\" class=\"dataframe\">\n",
       "  <thead>\n",
       "    <tr style=\"text-align: right;\">\n",
       "      <th></th>\n",
       "      <th>2006_Kcal</th>\n",
       "      <th>2006_IDH</th>\n",
       "    </tr>\n",
       "  </thead>\n",
       "  <tbody>\n",
       "    <tr>\n",
       "      <th>2006_Kcal</th>\n",
       "      <td>1.000000</td>\n",
       "      <td>0.807091</td>\n",
       "    </tr>\n",
       "    <tr>\n",
       "      <th>2006_IDH</th>\n",
       "      <td>0.807091</td>\n",
       "      <td>1.000000</td>\n",
       "    </tr>\n",
       "  </tbody>\n",
       "</table>\n",
       "</div>"
      ],
      "text/plain": [
       "           2006_Kcal  2006_IDH\n",
       "2006_Kcal   1.000000  0.807091\n",
       "2006_IDH    0.807091  1.000000"
      ]
     },
     "execution_count": 26,
     "metadata": {},
     "output_type": "execute_result"
    }
   ],
   "source": [
    "dadosampliados.loc[:,[\"2006_Kcal\", \"2006_IDH\"]].corr()"
   ]
  },
  {
   "cell_type": "code",
   "execution_count": 27,
   "metadata": {},
   "outputs": [
    {
     "data": {
      "text/html": [
       "<div>\n",
       "<style scoped>\n",
       "    .dataframe tbody tr th:only-of-type {\n",
       "        vertical-align: middle;\n",
       "    }\n",
       "\n",
       "    .dataframe tbody tr th {\n",
       "        vertical-align: top;\n",
       "    }\n",
       "\n",
       "    .dataframe thead th {\n",
       "        text-align: right;\n",
       "    }\n",
       "</style>\n",
       "<table border=\"1\" class=\"dataframe\">\n",
       "  <thead>\n",
       "    <tr style=\"text-align: right;\">\n",
       "      <th></th>\n",
       "      <th>2007_Kcal</th>\n",
       "      <th>2007_IDH</th>\n",
       "    </tr>\n",
       "  </thead>\n",
       "  <tbody>\n",
       "    <tr>\n",
       "      <th>2007_Kcal</th>\n",
       "      <td>1.00000</td>\n",
       "      <td>0.80318</td>\n",
       "    </tr>\n",
       "    <tr>\n",
       "      <th>2007_IDH</th>\n",
       "      <td>0.80318</td>\n",
       "      <td>1.00000</td>\n",
       "    </tr>\n",
       "  </tbody>\n",
       "</table>\n",
       "</div>"
      ],
      "text/plain": [
       "           2007_Kcal  2007_IDH\n",
       "2007_Kcal    1.00000   0.80318\n",
       "2007_IDH     0.80318   1.00000"
      ]
     },
     "execution_count": 27,
     "metadata": {},
     "output_type": "execute_result"
    }
   ],
   "source": [
    "dadosampliados.loc[:,[\"2007_Kcal\", \"2007_IDH\"]].corr()"
   ]
  },
  {
   "cell_type": "markdown",
   "metadata": {},
   "source": [
    "# Conclusão secundária\n",
    "De acordo com a análise realizada acima, é possível notar que a conclusão obtida inicialmente também é válida para outros anos, tornando-se então mais geral, uma vez que a correlação com o passar dos anos não foi afetada significativamente, continuando na mesma casa decimal (0.8).\n",
    "\n",
    "Partindo para um princípio mais biológico, a necessidade diária de Kcal para uma mulher adulta é aproximadamente 2000 kcal/dia e a do homem aproximadamente 2500 (https://www.cnpp.usda.gov/sites/default/files/usda_food_patterns/EstimatedCalorieNeedsPerDayTable.pdf), ou seja, nos países de IDH alto, a população possui maior poder aquisitivo, podendo portanto, investir mais em alimentação de qualidade e suplementação nutricional, o que pode explicar as conclusões obtidas com a análise exploratória em questão."
   ]
  },
  {
   "cell_type": "markdown",
   "metadata": {},
   "source": [
    "Por fim, foi feita a transferência do dataframe para um arquivo de extensão .csv:"
   ]
  },
  {
   "cell_type": "code",
   "execution_count": 67,
   "metadata": {},
   "outputs": [],
   "source": [
    "dadosampliados.to_csv(\"dados.csv\")"
   ]
  }
 ],
 "metadata": {
  "kernelspec": {
   "display_name": "Python 3",
   "language": "python",
   "name": "python3"
  },
  "language_info": {
   "codemirror_mode": {
    "name": "ipython",
    "version": 3
   },
   "file_extension": ".py",
   "mimetype": "text/x-python",
   "name": "python",
   "nbconvert_exporter": "python",
   "pygments_lexer": "ipython3",
   "version": "3.6.4"
  }
 },
 "nbformat": 4,
 "nbformat_minor": 2
}
